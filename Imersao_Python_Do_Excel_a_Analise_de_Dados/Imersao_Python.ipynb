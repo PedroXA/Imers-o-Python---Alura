{
 "cells": [
  {
   "cell_type": "code",
   "execution_count": null,
   "metadata": {},
   "outputs": [],
   "source": [
    "import pandas as pd\n",
    "\n",
    "df_principal = pd.read_excel(\"tabela_excel.xlsx\",sheet_name=\"Principal\")\n",
    "df_total_acoes = pd.read_excel(\"/content/tabela_excel.xlsx\",sheet_name=\"Total_de_acoes\")\n",
    "df_Ticker = pd.read_excel(\"/content/tabela_excel.xlsx\",sheet_name=\"Ticker\")\n",
    "df_informações_empresas = pd.read_excel(\"/content/tabela_excel.xlsx\",sheet_name=\"informações_empresas\")\n",
    "\n",
    "df_principal = df_principal[['Ativo','Data','Último (R$)','Var. Dia (%)']].copy()\n",
    "df_principal = df_principal.rename(columns={'Último (R$)':'valor_final', 'Var. Dia (%)':'var_dia_pct'}).copy()\n",
    "\n",
    "df_principal['Var_pct'] = df_principal['var_dia_pct'] / 100;\n",
    "df_principal['valor_inicial'] = df_principal['valor_final'] / (df_principal['Var_pct'] + 1);\n",
    "\n",
    "df_principal = df_principal.merge(df_total_acoes, left_on='Ativo', right_on='Código', how='left')\n",
    "\n",
    "df_principal = df_principal.drop(columns=['Código_x', 'Código_y'])\n",
    "\n",
    "df_principal['Variacao_rs'] = (df_principal['valor_final'] - df_principal['valor_inicial']) * df_principal['Qtde. Teórica']"
   ]
  }
 ],
 "metadata": {
  "kernelspec": {
   "display_name": "Python 3",
   "language": "python",
   "name": "python3"
  },
  "language_info": {
   "name": "python",
   "version": "3.12.2"
  }
 },
 "nbformat": 4,
 "nbformat_minor": 2
}
